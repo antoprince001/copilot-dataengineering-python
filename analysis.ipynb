{
 "cells": [
  {
   "cell_type": "code",
   "execution_count": 1,
   "metadata": {},
   "outputs": [],
   "source": [
    "import sqlite3\n",
    "import pandas as pd\n",
    "from pyspark.sql import SparkSession"
   ]
  },
  {
   "cell_type": "code",
   "execution_count": 4,
   "metadata": {},
   "outputs": [],
   "source": [
    "APP_NAME = 'ECommerce ETL Pipeline'\n",
    "input_path = 'data_source/raw/ecommerce_data.csv'\n",
    "staging_path = 'data_source/staging/ecommerce'\n",
    "db_path = 'data_source/processed/ecommerce.db'\n",
    "table_name = 'ecommerce'"
   ]
  },
  {
   "cell_type": "code",
   "execution_count": 5,
   "metadata": {},
   "outputs": [
    {
     "name": "stderr",
     "output_type": "stream",
     "text": [
      "/Users/antonyprincej/projects/copilot_workshop_data/env/lib/python3.11/site-packages/pyspark/sql/pandas/conversion.py:485: FutureWarning: is_datetime64tz_dtype is deprecated and will be removed in a future version. Check `isinstance(dtype, pd.DatetimeTZDtype)` instead.\n",
      "  if should_localize and is_datetime64tz_dtype(s.dtype) and s.dt.tz is not None:\n"
     ]
    }
   ],
   "source": [
    "con = sqlite3.connect(db_path)\n",
    "spark = SparkSession.builder.appName(APP_NAME).getOrCreate()\n",
    "\n",
    "pandas_df = pd.read_sql_query(f\"SELECT * from {table_name}\", con)\n",
    "\n",
    "# Convert pandas dataframe to pyspark dataframe\n",
    "df = spark.createDataFrame(pandas_df)"
   ]
  },
  {
   "cell_type": "code",
   "execution_count": 6,
   "metadata": {},
   "outputs": [
    {
     "name": "stdout",
     "output_type": "stream",
     "text": [
      "root\n",
      " |-- index: long (nullable = true)\n",
      " |-- Order_Date: string (nullable = true)\n",
      " |-- Time: string (nullable = true)\n",
      " |-- Aging: double (nullable = true)\n",
      " |-- Customer_Id: long (nullable = true)\n",
      " |-- Gender: string (nullable = true)\n",
      " |-- Device_Type: string (nullable = true)\n",
      " |-- Customer_Login_type: string (nullable = true)\n",
      " |-- Product_Category: string (nullable = true)\n",
      " |-- Product: string (nullable = true)\n",
      " |-- Sales: double (nullable = true)\n",
      " |-- Quantity: double (nullable = true)\n",
      " |-- Discount: double (nullable = true)\n",
      " |-- Profit: double (nullable = true)\n",
      " |-- Shipping_Cost: double (nullable = true)\n",
      " |-- Order_Priority: string (nullable = true)\n",
      " |-- Payment_method: string (nullable = true)\n",
      "\n"
     ]
    }
   ],
   "source": [
    "# Print schema\n",
    "df.printSchema()"
   ]
  },
  {
   "cell_type": "code",
   "execution_count": 7,
   "metadata": {},
   "outputs": [
    {
     "name": "stderr",
     "output_type": "stream",
     "text": [
      "                                                                                \r"
     ]
    },
    {
     "name": "stdout",
     "output_type": "stream",
     "text": [
      "+-----+----------+-------------------+-----+-----------+------+-----------+-------------------+------------------+--------------------+-----+--------+--------+------+-------------+--------------+--------------+\n",
      "|index|Order_Date|               Time|Aging|Customer_Id|Gender|Device_Type|Customer_Login_type|  Product_Category|             Product|Sales|Quantity|Discount|Profit|Shipping_Cost|Order_Priority|Payment_method|\n",
      "+-----+----------+-------------------+-----+-----------+------+-----------+-------------------+------------------+--------------------+-----+--------+--------+------+-------------+--------------+--------------+\n",
      "|    0|2018-01-02|2023-10-02T10:56:33|  8.0|      37077|Female|        Web|             Member|Auto & Accessories|   Car Media Players|140.0|     1.0|     0.3|  46.0|          4.6|        Medium|   credit_card|\n",
      "|    1|2018-07-24|2023-10-02T20:41:37|  2.0|      59173|Female|        Web|             Member|Auto & Accessories|        Car Speakers|211.0|     1.0|     0.3| 112.0|         11.2|        Medium|   credit_card|\n",
      "|    2|2018-11-08|2023-10-02T08:38:49|  8.0|      41066|Female|        Web|             Member|Auto & Accessories|     Car Body Covers|117.0|     5.0|     0.1|  31.2|          3.1|      Critical|   credit_card|\n",
      "|    3|2018-04-18|2023-10-02T19:28:06|  7.0|      50741|Female|        Web|             Member|Auto & Accessories|     Car & Bike Care|118.0|     1.0|     0.3|  26.2|          2.6|          High|   credit_card|\n",
      "|    4|2018-08-13|2023-10-02T21:18:39|  9.0|      53639|Female|        Web|             Member|Auto & Accessories|                Tyre|250.0|     1.0|     0.3| 160.0|         16.0|      Critical|   credit_card|\n",
      "|    5|2018-07-09|2023-10-02T21:57:05|  8.0|      39783|Female|        Web|             Member|Auto & Accessories|          Bike Tyres| 72.0|     1.0|     0.3|  24.0|          2.4|      Critical|   credit_card|\n",
      "|    6|2018-05-16|2023-10-02T13:10:30|  1.0|      26767|Female|        Web|             Member|Auto & Accessories|             Car Mat| 54.0|     1.0|     0.3|  54.0|          5.4|          High|   credit_card|\n",
      "|    7|2018-06-23|2023-10-02T18:29:09|  7.0|      20719|Female|        Web|             Member|Auto & Accessories|     Car Seat Covers|114.0|     5.0|     0.2|  22.6|          2.3|      Critical|   credit_card|\n",
      "|    8|2018-07-29|2023-10-02T11:55:02|  7.0|      46947|Female|        Web|             Member|Auto & Accessories|Car Pillow & Neck...|231.0|     5.0|     0.3| 116.4|         11.6|      Critical|   credit_card|\n",
      "|    9|2018-05-16|2023-10-02T19:41:10| 10.0|      31839|Female|        Web|             Member|Auto & Accessories|   Car Media Players|140.0|     1.0|     0.2|  54.4|          5.4|      Critical|   money_order|\n",
      "|   10|2018-07-13|2023-10-02T19:58:11| 10.0|      22249|Female|        Web|             Member|Auto & Accessories|        Car Speakers|211.0|     4.0|     0.1| 122.6|         12.3|      Critical|   credit_card|\n",
      "|   11|2018-10-07|2023-10-02T10:06:19|  1.0|      15109|Female|        Web|             Member|Auto & Accessories|     Car Body Covers|117.0|     4.0|     0.3|  18.3|          1.8|          High|   credit_card|\n",
      "|   12|2018-07-25|2023-10-02T17:44:10|  7.0|      18622|Female|        Web|             Member|Auto & Accessories|     Car & Bike Care|118.0|     1.0|     0.2|  35.6|          3.6|      Critical|   credit_card|\n",
      "|   13|2018-12-01|2023-10-02T14:14:28|  5.0|      56296|Female|        Web|             Member|Auto & Accessories|                Tyre|250.0|     1.0|     0.3| 140.0|         14.0|          High|   credit_card|\n",
      "|   14|2018-10-07|2023-10-02T19:03:12|  9.0|      34138|Female|        Web|             Member|Auto & Accessories|          Bike Tyres| 72.0|     4.0|     0.1|  18.0|          1.8|        Medium|   credit_card|\n",
      "|   15|2018-06-02|2023-10-02T19:00:43| 10.0|      51112|Female|        Web|             Member|Auto & Accessories|             Car Mat| 54.0|     1.0|     0.1|  27.0|          2.7|      Critical|   credit_card|\n",
      "|   16|2018-03-26|2023-10-02T23:41:31|  4.0|      57057|Female|        Web|             Member|Auto & Accessories|     Car Seat Covers|114.0|     1.0|     0.3|  22.6|          2.3|          High|   credit_card|\n",
      "|   17|2018-04-21|2023-10-02T00:03:41|  7.0|      50942|Female|        Web|             Member|Auto & Accessories|Car Pillow & Neck...|231.0|     5.0|     0.3|  93.3|          9.3|          High|   credit_card|\n",
      "|   18|2018-01-26|2023-10-02T15:54:26|  7.0|      42384|Female|        Web|             Member|Auto & Accessories|   Car Media Players|140.0|     1.0|     0.3|  46.0|          4.6|      Critical|   credit_card|\n",
      "|   19|2018-02-18|2023-10-02T14:31:30|  6.0|      26127|Female|        Web|             Member|Auto & Accessories|        Car Speakers|211.0|     1.0|     0.2| 122.6|         12.3|      Critical|   credit_card|\n",
      "+-----+----------+-------------------+-----+-----------+------+-----------+-------------------+------------------+--------------------+-----+--------+--------+------+-------------+--------------+--------------+\n",
      "only showing top 20 rows\n",
      "\n"
     ]
    }
   ],
   "source": [
    "# Show first 20 rows\n",
    "df.show()"
   ]
  },
  {
   "cell_type": "code",
   "execution_count": null,
   "metadata": {},
   "outputs": [],
   "source": [
    "# Analysis"
   ]
  },
  {
   "cell_type": "code",
   "execution_count": 8,
   "metadata": {},
   "outputs": [],
   "source": [
    "spark.stop()"
   ]
  },
  {
   "cell_type": "code",
   "execution_count": null,
   "metadata": {},
   "outputs": [],
   "source": []
  }
 ],
 "metadata": {
  "kernelspec": {
   "display_name": "env",
   "language": "python",
   "name": "python3"
  },
  "language_info": {
   "codemirror_mode": {
    "name": "ipython",
    "version": 3
   },
   "file_extension": ".py",
   "mimetype": "text/x-python",
   "name": "python",
   "nbconvert_exporter": "python",
   "pygments_lexer": "ipython3",
   "version": "3.11.4"
  },
  "orig_nbformat": 4
 },
 "nbformat": 4,
 "nbformat_minor": 2
}
